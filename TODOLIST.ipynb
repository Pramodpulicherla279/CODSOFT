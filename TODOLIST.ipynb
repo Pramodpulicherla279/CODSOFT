{
  "nbformat": 4,
  "nbformat_minor": 0,
  "metadata": {
    "colab": {
      "provenance": [],
      "authorship_tag": "ABX9TyON0Dm/twBD0Ma2VUF0zhcD",
      "include_colab_link": true
    },
    "kernelspec": {
      "name": "python3",
      "display_name": "Python 3"
    },
    "language_info": {
      "name": "python"
    }
  },
  "cells": [
    {
      "cell_type": "markdown",
      "metadata": {
        "id": "view-in-github",
        "colab_type": "text"
      },
      "source": [
        "<a href=\"https://colab.research.google.com/github/Pramodpulicherla279/CODSOFT/blob/main/TODOLIST.ipynb\" target=\"_parent\"><img src=\"https://colab.research.google.com/assets/colab-badge.svg\" alt=\"Open In Colab\"/></a>"
      ]
    },
    {
      "cell_type": "code",
      "execution_count": 3,
      "metadata": {
        "colab": {
          "base_uri": "https://localhost:8080/"
        },
        "id": "aLKIVTn9Kh_J",
        "outputId": "fbee1795-73b6-42a9-ffdc-775a5a2de053"
      },
      "outputs": [
        {
          "output_type": "stream",
          "name": "stdout",
          "text": [
            "\n",
            "To-Do List Application\n",
            "1. Add Task\n",
            "2. Remove Task\n",
            "3. Display Tasks\n",
            "4. Quit\n",
            "Enter your choice: 1\n",
            "Enter the task: should complete 2 tasks in 3rd of sep\n",
            "Task added!\n",
            "\n",
            "To-Do List Application\n",
            "1. Add Task\n",
            "2. Remove Task\n",
            "3. Display Tasks\n",
            "4. Quit\n",
            "Enter your choice: 3\n",
            "Tasks:\n",
            "1. should complete 2 tasks in 3rd of sep\n",
            "\n",
            "To-Do List Application\n",
            "1. Add Task\n",
            "2. Remove Task\n",
            "3. Display Tasks\n",
            "4. Quit\n",
            "Enter your choice: 2\n",
            "Enter the task to remove: should complete 2 tasks in 3rd of sep\n",
            "Task removed!\n",
            "\n",
            "To-Do List Application\n",
            "1. Add Task\n",
            "2. Remove Task\n",
            "3. Display Tasks\n",
            "4. Quit\n",
            "Enter your choice: 3\n",
            "No tasks in the list.\n",
            "\n",
            "To-Do List Application\n",
            "1. Add Task\n",
            "2. Remove Task\n",
            "3. Display Tasks\n",
            "4. Quit\n",
            "Enter your choice: 4\n",
            "Quitting the application.\n"
          ]
        }
      ],
      "source": [
        "class TodoList:\n",
        "    def __init__(self):\n",
        "        self.tasks = []\n",
        "\n",
        "    def add_task(self, task):\n",
        "        self.tasks.append(task)\n",
        "\n",
        "    def remove_task(self, task):\n",
        "        self.tasks.remove(task)\n",
        "\n",
        "    def display_tasks(self):\n",
        "        if not self.tasks:\n",
        "            print(\"No tasks in the list.\")\n",
        "        else:\n",
        "            print(\"Tasks:\")\n",
        "            for idx, task in enumerate(self.tasks, start=1):\n",
        "                print(f\"{idx}. {task}\")\n",
        "\n",
        "def main():\n",
        "    todo_list = TodoList()\n",
        "\n",
        "    while True:\n",
        "        print(\"\\nTo-Do List Application\")\n",
        "        print(\"1. Add Task\")\n",
        "        print(\"2. Remove Task\")\n",
        "        print(\"3. Display Tasks\")\n",
        "        print(\"4. Quit\")\n",
        "\n",
        "        choice = input(\"Enter your choice: \")\n",
        "\n",
        "        if choice == \"1\":\n",
        "            task = input(\"Enter the task: \")\n",
        "            todo_list.add_task(task)\n",
        "            print(\"Task added!\")\n",
        "\n",
        "        elif choice == \"2\":\n",
        "            task = input(\"Enter the task to remove: \")\n",
        "            try:\n",
        "                todo_list.remove_task(task)\n",
        "                print(\"Task removed!\")\n",
        "            except ValueError:\n",
        "                print(\"Task not found!\")\n",
        "\n",
        "        elif choice == \"3\":\n",
        "            todo_list.display_tasks()\n",
        "\n",
        "        elif choice == \"4\":\n",
        "            print(\"Quitting the application.\")\n",
        "            break\n",
        "\n",
        "        else:\n",
        "            print(\"Invalid choice. Please select a valid option.\")\n",
        "\n",
        "if __name__ == \"__main__\":\n",
        "    main()\n"
      ]
    }
  ]
}