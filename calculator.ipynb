{
  "nbformat": 4,
  "nbformat_minor": 0,
  "metadata": {
    "colab": {
      "provenance": [],
      "authorship_tag": "ABX9TyNviyMdtbJql+eHmbNxXiiY",
      "include_colab_link": true
    },
    "kernelspec": {
      "name": "python3",
      "display_name": "Python 3"
    },
    "language_info": {
      "name": "python"
    }
  },
  "cells": [
    {
      "cell_type": "markdown",
      "metadata": {
        "id": "view-in-github",
        "colab_type": "text"
      },
      "source": [
        "<a href=\"https://colab.research.google.com/github/Pramodpulicherla279/CODSOFT/blob/main/calculator.ipynb\" target=\"_parent\"><img src=\"https://colab.research.google.com/assets/colab-badge.svg\" alt=\"Open In Colab\"/></a>"
      ]
    },
    {
      "cell_type": "markdown",
      "source": [
        "# Function to add two numbers"
      ],
      "metadata": {
        "id": "v1SVAKNQ6jrm"
      }
    },
    {
      "cell_type": "code",
      "execution_count": 19,
      "metadata": {
        "id": "gs0NlWU_6IFa"
      },
      "outputs": [],
      "source": [
        "def add(x, y):\n",
        "    return x + y"
      ]
    },
    {
      "cell_type": "markdown",
      "source": [
        "# Function to subtract two numbers"
      ],
      "metadata": {
        "id": "1yGCxr3n6w_-"
      }
    },
    {
      "cell_type": "code",
      "source": [
        "def subtract(x, y):\n",
        "    return x - y"
      ],
      "metadata": {
        "id": "G9fcVx3a6yfC"
      },
      "execution_count": 20,
      "outputs": []
    },
    {
      "cell_type": "markdown",
      "source": [
        "# Function to multiply two numbers"
      ],
      "metadata": {
        "id": "bCNNIeV261XN"
      }
    },
    {
      "cell_type": "code",
      "source": [
        "def multiply(x, y):\n",
        "    return x * y"
      ],
      "metadata": {
        "id": "cd5r_WFu64Ml"
      },
      "execution_count": 21,
      "outputs": []
    },
    {
      "cell_type": "markdown",
      "source": [
        "# Function to divide two numbers"
      ],
      "metadata": {
        "id": "ZWhUrt7q69_m"
      }
    },
    {
      "cell_type": "code",
      "source": [
        "def divide(x, y):\n",
        "    if y == 0:\n",
        "        return \"invalid input\"\n",
        "    return x / y"
      ],
      "metadata": {
        "id": "gdmF7Vao7Ax6"
      },
      "execution_count": 22,
      "outputs": []
    },
    {
      "cell_type": "markdown",
      "source": [
        "# Main program loop"
      ],
      "metadata": {
        "id": "1BW1Wuup7J_0"
      }
    },
    {
      "cell_type": "code",
      "source": [
        "num1 = float(input(\"Enter first number: \"))\n",
        "num2 = float(input(\"Enter second number: \"))\n",
        "\n",
        "print(\"Select operation:\")\n",
        "print(\"1. Add\")\n",
        "print(\"2. Subtract\")\n",
        "print(\"3. Multiply\")\n",
        "print(\"4. Divide\")\n",
        "\n",
        "# Get the user's operation choice\n",
        "choice = input(\"Enter choice (1/2/3/4): \")\n",
        "\n",
        "if choice in (\"1\", \"2\", \"3\", \"4\"):\n",
        "    if choice == \"1\":\n",
        "        print(\"Result:\", add(num1, num2))\n",
        "    elif choice == \"2\":\n",
        "        print(\"Result:\", subtract(num1, num2))\n",
        "    elif choice == \"3\":\n",
        "        print(\"Result:\", multiply(num1, num2))\n",
        "    elif choice == \"4\":\n",
        "        print(\"Result:\", divide(num1, num2))\n",
        "else:\n",
        "    print(\"Invalid choice\")\n",
        "\n",
        "\n",
        "\n"
      ],
      "metadata": {
        "colab": {
          "base_uri": "https://localhost:8080/"
        },
        "id": "kOdhHdwI7Pmb",
        "outputId": "dcb474ad-ba2b-4a60-ef16-07adb6a51a5f"
      },
      "execution_count": 26,
      "outputs": [
        {
          "output_type": "stream",
          "name": "stdout",
          "text": [
            "Enter first number: 545\n",
            "Enter second number: 2\n",
            "Select operation:\n",
            "1. Add\n",
            "2. Subtract\n",
            "3. Multiply\n",
            "4. Divide\n",
            "Enter choice (1/2/3/4): 4\n",
            "Result: 272.5\n"
          ]
        }
      ]
    }
  ]
}